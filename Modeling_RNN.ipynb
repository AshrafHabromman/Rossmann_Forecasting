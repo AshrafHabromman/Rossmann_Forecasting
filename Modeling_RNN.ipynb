{
  "cells": [
    {
      "cell_type": "markdown",
      "id": "8e0eed5b",
      "metadata": {
        "id": "8e0eed5b"
      },
      "source": [
        "# Modling By RNN "
      ]
    },
    {
      "cell_type": "markdown",
      "id": "6f4f9d7e",
      "metadata": {
        "id": "6f4f9d7e"
      },
      "source": [
        "data: https://www.kaggle.com/datasets/allanjackson/rossmann\n"
      ]
    },
    {
      "cell_type": "markdown",
      "id": "f2b607fa",
      "metadata": {
        "id": "f2b607fa"
      },
      "source": [
        "check also the walmart dataset "
      ]
    },
    {
      "cell_type": "code",
      "source": [
        "! pip install pmdarima"
      ],
      "metadata": {
        "colab": {
          "base_uri": "https://localhost:8080/"
        },
        "id": "aRf5fJgYlMjA",
        "outputId": "067a31d8-40ee-416c-ce6a-0fb3fd4cff7f"
      },
      "id": "aRf5fJgYlMjA",
      "execution_count": null,
      "outputs": [
        {
          "output_type": "stream",
          "name": "stdout",
          "text": [
            "Looking in indexes: https://pypi.org/simple, https://us-python.pkg.dev/colab-wheels/public/simple/\n",
            "Collecting pmdarima\n",
            "  Downloading pmdarima-1.8.5-cp37-cp37m-manylinux_2_17_x86_64.manylinux2014_x86_64.manylinux_2_24_x86_64.whl (1.4 MB)\n",
            "\u001b[K     |████████████████████████████████| 1.4 MB 5.6 MB/s \n",
            "\u001b[?25hRequirement already satisfied: scipy>=1.3.2 in /usr/local/lib/python3.7/dist-packages (from pmdarima) (1.4.1)\n",
            "Requirement already satisfied: urllib3 in /usr/local/lib/python3.7/dist-packages (from pmdarima) (1.24.3)\n",
            "Requirement already satisfied: scikit-learn>=0.22 in /usr/local/lib/python3.7/dist-packages (from pmdarima) (1.0.2)\n",
            "Requirement already satisfied: Cython!=0.29.18,>=0.29 in /usr/local/lib/python3.7/dist-packages (from pmdarima) (0.29.30)\n",
            "Requirement already satisfied: setuptools!=50.0.0,>=38.6.0 in /usr/local/lib/python3.7/dist-packages (from pmdarima) (57.4.0)\n",
            "Requirement already satisfied: numpy>=1.19.3 in /usr/local/lib/python3.7/dist-packages (from pmdarima) (1.21.6)\n",
            "Requirement already satisfied: pandas>=0.19 in /usr/local/lib/python3.7/dist-packages (from pmdarima) (1.3.5)\n",
            "Collecting statsmodels!=0.12.0,>=0.11\n",
            "  Downloading statsmodels-0.13.2-cp37-cp37m-manylinux_2_17_x86_64.manylinux2014_x86_64.whl (9.8 MB)\n",
            "\u001b[K     |████████████████████████████████| 9.8 MB 31.4 MB/s \n",
            "\u001b[?25hRequirement already satisfied: joblib>=0.11 in /usr/local/lib/python3.7/dist-packages (from pmdarima) (1.1.0)\n",
            "Requirement already satisfied: pytz>=2017.3 in /usr/local/lib/python3.7/dist-packages (from pandas>=0.19->pmdarima) (2022.1)\n",
            "Requirement already satisfied: python-dateutil>=2.7.3 in /usr/local/lib/python3.7/dist-packages (from pandas>=0.19->pmdarima) (2.8.2)\n",
            "Requirement already satisfied: six>=1.5 in /usr/local/lib/python3.7/dist-packages (from python-dateutil>=2.7.3->pandas>=0.19->pmdarima) (1.15.0)\n",
            "Requirement already satisfied: threadpoolctl>=2.0.0 in /usr/local/lib/python3.7/dist-packages (from scikit-learn>=0.22->pmdarima) (3.1.0)\n",
            "Requirement already satisfied: patsy>=0.5.2 in /usr/local/lib/python3.7/dist-packages (from statsmodels!=0.12.0,>=0.11->pmdarima) (0.5.2)\n",
            "Requirement already satisfied: packaging>=21.3 in /usr/local/lib/python3.7/dist-packages (from statsmodels!=0.12.0,>=0.11->pmdarima) (21.3)\n",
            "Requirement already satisfied: pyparsing!=3.0.5,>=2.0.2 in /usr/local/lib/python3.7/dist-packages (from packaging>=21.3->statsmodels!=0.12.0,>=0.11->pmdarima) (3.0.9)\n",
            "Installing collected packages: statsmodels, pmdarima\n",
            "  Attempting uninstall: statsmodels\n",
            "    Found existing installation: statsmodels 0.10.2\n",
            "    Uninstalling statsmodels-0.10.2:\n",
            "      Successfully uninstalled statsmodels-0.10.2\n",
            "Successfully installed pmdarima-1.8.5 statsmodels-0.13.2\n"
          ]
        }
      ]
    },
    {
      "cell_type": "code",
      "source": [
        "! pip install statsmodels "
      ],
      "metadata": {
        "colab": {
          "base_uri": "https://localhost:8080/"
        },
        "id": "f74uJDcZlew2",
        "outputId": "bcc34f00-22b3-4f07-cabf-2e0a37131ce5"
      },
      "id": "f74uJDcZlew2",
      "execution_count": null,
      "outputs": [
        {
          "output_type": "stream",
          "name": "stdout",
          "text": [
            "Looking in indexes: https://pypi.org/simple, https://us-python.pkg.dev/colab-wheels/public/simple/\n",
            "Requirement already satisfied: statsmodels in /usr/local/lib/python3.7/dist-packages (0.13.2)\n",
            "Requirement already satisfied: scipy>=1.3 in /usr/local/lib/python3.7/dist-packages (from statsmodels) (1.4.1)\n",
            "Requirement already satisfied: pandas>=0.25 in /usr/local/lib/python3.7/dist-packages (from statsmodels) (1.3.5)\n",
            "Requirement already satisfied: packaging>=21.3 in /usr/local/lib/python3.7/dist-packages (from statsmodels) (21.3)\n",
            "Requirement already satisfied: patsy>=0.5.2 in /usr/local/lib/python3.7/dist-packages (from statsmodels) (0.5.2)\n",
            "Requirement already satisfied: numpy>=1.17 in /usr/local/lib/python3.7/dist-packages (from statsmodels) (1.21.6)\n",
            "Requirement already satisfied: pyparsing!=3.0.5,>=2.0.2 in /usr/local/lib/python3.7/dist-packages (from packaging>=21.3->statsmodels) (3.0.9)\n",
            "Requirement already satisfied: python-dateutil>=2.7.3 in /usr/local/lib/python3.7/dist-packages (from pandas>=0.25->statsmodels) (2.8.2)\n",
            "Requirement already satisfied: pytz>=2017.3 in /usr/local/lib/python3.7/dist-packages (from pandas>=0.25->statsmodels) (2022.1)\n",
            "Requirement already satisfied: six in /usr/local/lib/python3.7/dist-packages (from patsy>=0.5.2->statsmodels) (1.15.0)\n"
          ]
        }
      ]
    },
    {
      "cell_type": "code",
      "source": [
        "! pip install pystan==2.19.1.1"
      ],
      "metadata": {
        "colab": {
          "base_uri": "https://localhost:8080/"
        },
        "id": "x9osjsV6oWb4",
        "outputId": "ee601635-ea57-47f8-c197-08b2a846c44b"
      },
      "id": "x9osjsV6oWb4",
      "execution_count": null,
      "outputs": [
        {
          "output_type": "stream",
          "name": "stdout",
          "text": [
            "Looking in indexes: https://pypi.org/simple, https://us-python.pkg.dev/colab-wheels/public/simple/\n",
            "Requirement already satisfied: pystan==2.19.1.1 in /usr/local/lib/python3.7/dist-packages (2.19.1.1)\n",
            "Requirement already satisfied: Cython!=0.25.1,>=0.22 in /usr/local/lib/python3.7/dist-packages (from pystan==2.19.1.1) (0.29.30)\n",
            "Requirement already satisfied: numpy>=1.7 in /usr/local/lib/python3.7/dist-packages (from pystan==2.19.1.1) (1.21.6)\n"
          ]
        }
      ]
    },
    {
      "cell_type": "code",
      "source": [
        ""
      ],
      "metadata": {
        "id": "s5PLdGfxnf5Q"
      },
      "id": "s5PLdGfxnf5Q",
      "execution_count": null,
      "outputs": []
    },
    {
      "cell_type": "markdown",
      "source": [
        "## importing required libraries "
      ],
      "metadata": {
        "id": "6hT2vuifnjYb"
      },
      "id": "6hT2vuifnjYb"
    },
    {
      "cell_type": "code",
      "execution_count": null,
      "id": "a8ca43cc",
      "metadata": {
        "id": "a8ca43cc"
      },
      "outputs": [],
      "source": [
        "import pandas as pd \n",
        "import seaborn as sns \n",
        "import numpy as np \n",
        "import matplotlib.pyplot as plt \n",
        "\n",
        "\n",
        "import plotly.express as px\n",
        "import plotly.graph_objects as go\n",
        "from plotly.subplots import make_subplots\n",
        "\n",
        "from matplotlib.cbook import boxplot_stats\n",
        "\n",
        "import time \n",
        "import datetime\n",
        "from datetime import timedelta\n",
        "from datetime import datetime\n",
        "\n",
        "import statsmodels.tsa.api as smt\n",
        "import statsmodels.tsa as tsa\n",
        "# from statsmodels.tsa.deterministic import DeterministicProcess\n",
        "from statsmodels.tsa.stattools import adfuller\n",
        "\n",
        "from sklearn.preprocessing import MinMaxScaler, StandardScaler\n",
        "\n",
        "import tensorflow as tf\n",
        "from tensorflow.keras.callbacks import  EarlyStopping\n"
      ]
    },
    {
      "cell_type": "code",
      "execution_count": null,
      "id": "fdff4831",
      "metadata": {
        "colab": {
          "base_uri": "https://localhost:8080/"
        },
        "id": "fdff4831",
        "outputId": "7f4fdc95-7998-4cd3-c359-841a2e32be62"
      },
      "outputs": [
        {
          "output_type": "stream",
          "name": "stderr",
          "text": [
            "/usr/local/lib/python3.7/dist-packages/IPython/core/interactiveshell.py:2882: DtypeWarning: Columns (7) have mixed types.Specify dtype option on import or set low_memory=False.\n",
            "  exec(code_obj, self.user_global_ns, self.user_ns)\n"
          ]
        }
      ],
      "source": [
        "train_data_source ='https://raw.githubusercontent.com/AshrafHabromman/Rossmann_Sales_Forecasting/main/data/train.csv'\n",
        "train_data_l = r'data\\train.csv'\n",
        "df_train = pd.read_csv(train_data_source, index_col = ['Date'], parse_dates = True,)"
      ]
    },
    {
      "cell_type": "code",
      "execution_count": null,
      "id": "235821a2",
      "metadata": {
        "colab": {
          "base_uri": "https://localhost:8080/",
          "height": 238
        },
        "id": "235821a2",
        "outputId": "32a3f0ea-4df7-4270-9945-3acbf59d4cf9"
      },
      "outputs": [
        {
          "output_type": "execute_result",
          "data": {
            "text/plain": [
              "            Store  DayOfWeek  Sales  Customers  Open  Promo StateHoliday  \\\n",
              "Date                                                                       \n",
              "2015-07-31      1          5   5263        555     1      1            0   \n",
              "2015-07-31      2          5   6064        625     1      1            0   \n",
              "2015-07-31      3          5   8314        821     1      1            0   \n",
              "2015-07-31      4          5  13995       1498     1      1            0   \n",
              "2015-07-31      5          5   4822        559     1      1            0   \n",
              "\n",
              "            SchoolHoliday  \n",
              "Date                       \n",
              "2015-07-31              1  \n",
              "2015-07-31              1  \n",
              "2015-07-31              1  \n",
              "2015-07-31              1  \n",
              "2015-07-31              1  "
            ],
            "text/html": [
              "\n",
              "  <div id=\"df-6c978413-8ec2-4124-b833-437f0063a78c\">\n",
              "    <div class=\"colab-df-container\">\n",
              "      <div>\n",
              "<style scoped>\n",
              "    .dataframe tbody tr th:only-of-type {\n",
              "        vertical-align: middle;\n",
              "    }\n",
              "\n",
              "    .dataframe tbody tr th {\n",
              "        vertical-align: top;\n",
              "    }\n",
              "\n",
              "    .dataframe thead th {\n",
              "        text-align: right;\n",
              "    }\n",
              "</style>\n",
              "<table border=\"1\" class=\"dataframe\">\n",
              "  <thead>\n",
              "    <tr style=\"text-align: right;\">\n",
              "      <th></th>\n",
              "      <th>Store</th>\n",
              "      <th>DayOfWeek</th>\n",
              "      <th>Sales</th>\n",
              "      <th>Customers</th>\n",
              "      <th>Open</th>\n",
              "      <th>Promo</th>\n",
              "      <th>StateHoliday</th>\n",
              "      <th>SchoolHoliday</th>\n",
              "    </tr>\n",
              "    <tr>\n",
              "      <th>Date</th>\n",
              "      <th></th>\n",
              "      <th></th>\n",
              "      <th></th>\n",
              "      <th></th>\n",
              "      <th></th>\n",
              "      <th></th>\n",
              "      <th></th>\n",
              "      <th></th>\n",
              "    </tr>\n",
              "  </thead>\n",
              "  <tbody>\n",
              "    <tr>\n",
              "      <th>2015-07-31</th>\n",
              "      <td>1</td>\n",
              "      <td>5</td>\n",
              "      <td>5263</td>\n",
              "      <td>555</td>\n",
              "      <td>1</td>\n",
              "      <td>1</td>\n",
              "      <td>0</td>\n",
              "      <td>1</td>\n",
              "    </tr>\n",
              "    <tr>\n",
              "      <th>2015-07-31</th>\n",
              "      <td>2</td>\n",
              "      <td>5</td>\n",
              "      <td>6064</td>\n",
              "      <td>625</td>\n",
              "      <td>1</td>\n",
              "      <td>1</td>\n",
              "      <td>0</td>\n",
              "      <td>1</td>\n",
              "    </tr>\n",
              "    <tr>\n",
              "      <th>2015-07-31</th>\n",
              "      <td>3</td>\n",
              "      <td>5</td>\n",
              "      <td>8314</td>\n",
              "      <td>821</td>\n",
              "      <td>1</td>\n",
              "      <td>1</td>\n",
              "      <td>0</td>\n",
              "      <td>1</td>\n",
              "    </tr>\n",
              "    <tr>\n",
              "      <th>2015-07-31</th>\n",
              "      <td>4</td>\n",
              "      <td>5</td>\n",
              "      <td>13995</td>\n",
              "      <td>1498</td>\n",
              "      <td>1</td>\n",
              "      <td>1</td>\n",
              "      <td>0</td>\n",
              "      <td>1</td>\n",
              "    </tr>\n",
              "    <tr>\n",
              "      <th>2015-07-31</th>\n",
              "      <td>5</td>\n",
              "      <td>5</td>\n",
              "      <td>4822</td>\n",
              "      <td>559</td>\n",
              "      <td>1</td>\n",
              "      <td>1</td>\n",
              "      <td>0</td>\n",
              "      <td>1</td>\n",
              "    </tr>\n",
              "  </tbody>\n",
              "</table>\n",
              "</div>\n",
              "      <button class=\"colab-df-convert\" onclick=\"convertToInteractive('df-6c978413-8ec2-4124-b833-437f0063a78c')\"\n",
              "              title=\"Convert this dataframe to an interactive table.\"\n",
              "              style=\"display:none;\">\n",
              "        \n",
              "  <svg xmlns=\"http://www.w3.org/2000/svg\" height=\"24px\"viewBox=\"0 0 24 24\"\n",
              "       width=\"24px\">\n",
              "    <path d=\"M0 0h24v24H0V0z\" fill=\"none\"/>\n",
              "    <path d=\"M18.56 5.44l.94 2.06.94-2.06 2.06-.94-2.06-.94-.94-2.06-.94 2.06-2.06.94zm-11 1L8.5 8.5l.94-2.06 2.06-.94-2.06-.94L8.5 2.5l-.94 2.06-2.06.94zm10 10l.94 2.06.94-2.06 2.06-.94-2.06-.94-.94-2.06-.94 2.06-2.06.94z\"/><path d=\"M17.41 7.96l-1.37-1.37c-.4-.4-.92-.59-1.43-.59-.52 0-1.04.2-1.43.59L10.3 9.45l-7.72 7.72c-.78.78-.78 2.05 0 2.83L4 21.41c.39.39.9.59 1.41.59.51 0 1.02-.2 1.41-.59l7.78-7.78 2.81-2.81c.8-.78.8-2.07 0-2.86zM5.41 20L4 18.59l7.72-7.72 1.47 1.35L5.41 20z\"/>\n",
              "  </svg>\n",
              "      </button>\n",
              "      \n",
              "  <style>\n",
              "    .colab-df-container {\n",
              "      display:flex;\n",
              "      flex-wrap:wrap;\n",
              "      gap: 12px;\n",
              "    }\n",
              "\n",
              "    .colab-df-convert {\n",
              "      background-color: #E8F0FE;\n",
              "      border: none;\n",
              "      border-radius: 50%;\n",
              "      cursor: pointer;\n",
              "      display: none;\n",
              "      fill: #1967D2;\n",
              "      height: 32px;\n",
              "      padding: 0 0 0 0;\n",
              "      width: 32px;\n",
              "    }\n",
              "\n",
              "    .colab-df-convert:hover {\n",
              "      background-color: #E2EBFA;\n",
              "      box-shadow: 0px 1px 2px rgba(60, 64, 67, 0.3), 0px 1px 3px 1px rgba(60, 64, 67, 0.15);\n",
              "      fill: #174EA6;\n",
              "    }\n",
              "\n",
              "    [theme=dark] .colab-df-convert {\n",
              "      background-color: #3B4455;\n",
              "      fill: #D2E3FC;\n",
              "    }\n",
              "\n",
              "    [theme=dark] .colab-df-convert:hover {\n",
              "      background-color: #434B5C;\n",
              "      box-shadow: 0px 1px 3px 1px rgba(0, 0, 0, 0.15);\n",
              "      filter: drop-shadow(0px 1px 2px rgba(0, 0, 0, 0.3));\n",
              "      fill: #FFFFFF;\n",
              "    }\n",
              "  </style>\n",
              "\n",
              "      <script>\n",
              "        const buttonEl =\n",
              "          document.querySelector('#df-6c978413-8ec2-4124-b833-437f0063a78c button.colab-df-convert');\n",
              "        buttonEl.style.display =\n",
              "          google.colab.kernel.accessAllowed ? 'block' : 'none';\n",
              "\n",
              "        async function convertToInteractive(key) {\n",
              "          const element = document.querySelector('#df-6c978413-8ec2-4124-b833-437f0063a78c');\n",
              "          const dataTable =\n",
              "            await google.colab.kernel.invokeFunction('convertToInteractive',\n",
              "                                                     [key], {});\n",
              "          if (!dataTable) return;\n",
              "\n",
              "          const docLinkHtml = 'Like what you see? Visit the ' +\n",
              "            '<a target=\"_blank\" href=https://colab.research.google.com/notebooks/data_table.ipynb>data table notebook</a>'\n",
              "            + ' to learn more about interactive tables.';\n",
              "          element.innerHTML = '';\n",
              "          dataTable['output_type'] = 'display_data';\n",
              "          await google.colab.output.renderOutput(dataTable, element);\n",
              "          const docLink = document.createElement('div');\n",
              "          docLink.innerHTML = docLinkHtml;\n",
              "          element.appendChild(docLink);\n",
              "        }\n",
              "      </script>\n",
              "    </div>\n",
              "  </div>\n",
              "  "
            ]
          },
          "metadata": {},
          "execution_count": 6
        }
      ],
      "source": [
        "df_train.head() "
      ]
    },
    {
      "cell_type": "code",
      "source": [
        "store_sample = df_train[df_train['Store']==1]\n",
        "store_sample.sort_index(ascending=True, inplace=True)\n",
        "store_sample.drop('Store',axis=1, inplace=True)\n",
        "store_sample.head()"
      ],
      "metadata": {
        "colab": {
          "base_uri": "https://localhost:8080/",
          "height": 411
        },
        "id": "GU1tDiKFnbFL",
        "outputId": "1e7cbda7-3028-4def-eae3-f0f6c9b6b7cf"
      },
      "id": "GU1tDiKFnbFL",
      "execution_count": null,
      "outputs": [
        {
          "output_type": "stream",
          "name": "stderr",
          "text": [
            "/usr/local/lib/python3.7/dist-packages/pandas/core/frame.py:6402: SettingWithCopyWarning: \n",
            "A value is trying to be set on a copy of a slice from a DataFrame\n",
            "\n",
            "See the caveats in the documentation: https://pandas.pydata.org/pandas-docs/stable/user_guide/indexing.html#returning-a-view-versus-a-copy\n",
            "  key,\n",
            "/usr/local/lib/python3.7/dist-packages/pandas/core/frame.py:4913: SettingWithCopyWarning: \n",
            "A value is trying to be set on a copy of a slice from a DataFrame\n",
            "\n",
            "See the caveats in the documentation: https://pandas.pydata.org/pandas-docs/stable/user_guide/indexing.html#returning-a-view-versus-a-copy\n",
            "  errors=errors,\n"
          ]
        },
        {
          "output_type": "execute_result",
          "data": {
            "text/plain": [
              "            DayOfWeek  Sales  Customers  Open  Promo StateHoliday  \\\n",
              "Date                                                                \n",
              "2013-01-01          2      0          0     0      0            a   \n",
              "2013-01-02          3   5530        668     1      0            0   \n",
              "2013-01-03          4   4327        578     1      0            0   \n",
              "2013-01-04          5   4486        619     1      0            0   \n",
              "2013-01-05          6   4997        635     1      0            0   \n",
              "\n",
              "            SchoolHoliday  \n",
              "Date                       \n",
              "2013-01-01              1  \n",
              "2013-01-02              1  \n",
              "2013-01-03              1  \n",
              "2013-01-04              1  \n",
              "2013-01-05              1  "
            ],
            "text/html": [
              "\n",
              "  <div id=\"df-efc07281-ff71-4c3a-b637-972aa2b022e9\">\n",
              "    <div class=\"colab-df-container\">\n",
              "      <div>\n",
              "<style scoped>\n",
              "    .dataframe tbody tr th:only-of-type {\n",
              "        vertical-align: middle;\n",
              "    }\n",
              "\n",
              "    .dataframe tbody tr th {\n",
              "        vertical-align: top;\n",
              "    }\n",
              "\n",
              "    .dataframe thead th {\n",
              "        text-align: right;\n",
              "    }\n",
              "</style>\n",
              "<table border=\"1\" class=\"dataframe\">\n",
              "  <thead>\n",
              "    <tr style=\"text-align: right;\">\n",
              "      <th></th>\n",
              "      <th>DayOfWeek</th>\n",
              "      <th>Sales</th>\n",
              "      <th>Customers</th>\n",
              "      <th>Open</th>\n",
              "      <th>Promo</th>\n",
              "      <th>StateHoliday</th>\n",
              "      <th>SchoolHoliday</th>\n",
              "    </tr>\n",
              "    <tr>\n",
              "      <th>Date</th>\n",
              "      <th></th>\n",
              "      <th></th>\n",
              "      <th></th>\n",
              "      <th></th>\n",
              "      <th></th>\n",
              "      <th></th>\n",
              "      <th></th>\n",
              "    </tr>\n",
              "  </thead>\n",
              "  <tbody>\n",
              "    <tr>\n",
              "      <th>2013-01-01</th>\n",
              "      <td>2</td>\n",
              "      <td>0</td>\n",
              "      <td>0</td>\n",
              "      <td>0</td>\n",
              "      <td>0</td>\n",
              "      <td>a</td>\n",
              "      <td>1</td>\n",
              "    </tr>\n",
              "    <tr>\n",
              "      <th>2013-01-02</th>\n",
              "      <td>3</td>\n",
              "      <td>5530</td>\n",
              "      <td>668</td>\n",
              "      <td>1</td>\n",
              "      <td>0</td>\n",
              "      <td>0</td>\n",
              "      <td>1</td>\n",
              "    </tr>\n",
              "    <tr>\n",
              "      <th>2013-01-03</th>\n",
              "      <td>4</td>\n",
              "      <td>4327</td>\n",
              "      <td>578</td>\n",
              "      <td>1</td>\n",
              "      <td>0</td>\n",
              "      <td>0</td>\n",
              "      <td>1</td>\n",
              "    </tr>\n",
              "    <tr>\n",
              "      <th>2013-01-04</th>\n",
              "      <td>5</td>\n",
              "      <td>4486</td>\n",
              "      <td>619</td>\n",
              "      <td>1</td>\n",
              "      <td>0</td>\n",
              "      <td>0</td>\n",
              "      <td>1</td>\n",
              "    </tr>\n",
              "    <tr>\n",
              "      <th>2013-01-05</th>\n",
              "      <td>6</td>\n",
              "      <td>4997</td>\n",
              "      <td>635</td>\n",
              "      <td>1</td>\n",
              "      <td>0</td>\n",
              "      <td>0</td>\n",
              "      <td>1</td>\n",
              "    </tr>\n",
              "  </tbody>\n",
              "</table>\n",
              "</div>\n",
              "      <button class=\"colab-df-convert\" onclick=\"convertToInteractive('df-efc07281-ff71-4c3a-b637-972aa2b022e9')\"\n",
              "              title=\"Convert this dataframe to an interactive table.\"\n",
              "              style=\"display:none;\">\n",
              "        \n",
              "  <svg xmlns=\"http://www.w3.org/2000/svg\" height=\"24px\"viewBox=\"0 0 24 24\"\n",
              "       width=\"24px\">\n",
              "    <path d=\"M0 0h24v24H0V0z\" fill=\"none\"/>\n",
              "    <path d=\"M18.56 5.44l.94 2.06.94-2.06 2.06-.94-2.06-.94-.94-2.06-.94 2.06-2.06.94zm-11 1L8.5 8.5l.94-2.06 2.06-.94-2.06-.94L8.5 2.5l-.94 2.06-2.06.94zm10 10l.94 2.06.94-2.06 2.06-.94-2.06-.94-.94-2.06-.94 2.06-2.06.94z\"/><path d=\"M17.41 7.96l-1.37-1.37c-.4-.4-.92-.59-1.43-.59-.52 0-1.04.2-1.43.59L10.3 9.45l-7.72 7.72c-.78.78-.78 2.05 0 2.83L4 21.41c.39.39.9.59 1.41.59.51 0 1.02-.2 1.41-.59l7.78-7.78 2.81-2.81c.8-.78.8-2.07 0-2.86zM5.41 20L4 18.59l7.72-7.72 1.47 1.35L5.41 20z\"/>\n",
              "  </svg>\n",
              "      </button>\n",
              "      \n",
              "  <style>\n",
              "    .colab-df-container {\n",
              "      display:flex;\n",
              "      flex-wrap:wrap;\n",
              "      gap: 12px;\n",
              "    }\n",
              "\n",
              "    .colab-df-convert {\n",
              "      background-color: #E8F0FE;\n",
              "      border: none;\n",
              "      border-radius: 50%;\n",
              "      cursor: pointer;\n",
              "      display: none;\n",
              "      fill: #1967D2;\n",
              "      height: 32px;\n",
              "      padding: 0 0 0 0;\n",
              "      width: 32px;\n",
              "    }\n",
              "\n",
              "    .colab-df-convert:hover {\n",
              "      background-color: #E2EBFA;\n",
              "      box-shadow: 0px 1px 2px rgba(60, 64, 67, 0.3), 0px 1px 3px 1px rgba(60, 64, 67, 0.15);\n",
              "      fill: #174EA6;\n",
              "    }\n",
              "\n",
              "    [theme=dark] .colab-df-convert {\n",
              "      background-color: #3B4455;\n",
              "      fill: #D2E3FC;\n",
              "    }\n",
              "\n",
              "    [theme=dark] .colab-df-convert:hover {\n",
              "      background-color: #434B5C;\n",
              "      box-shadow: 0px 1px 3px 1px rgba(0, 0, 0, 0.15);\n",
              "      filter: drop-shadow(0px 1px 2px rgba(0, 0, 0, 0.3));\n",
              "      fill: #FFFFFF;\n",
              "    }\n",
              "  </style>\n",
              "\n",
              "      <script>\n",
              "        const buttonEl =\n",
              "          document.querySelector('#df-efc07281-ff71-4c3a-b637-972aa2b022e9 button.colab-df-convert');\n",
              "        buttonEl.style.display =\n",
              "          google.colab.kernel.accessAllowed ? 'block' : 'none';\n",
              "\n",
              "        async function convertToInteractive(key) {\n",
              "          const element = document.querySelector('#df-efc07281-ff71-4c3a-b637-972aa2b022e9');\n",
              "          const dataTable =\n",
              "            await google.colab.kernel.invokeFunction('convertToInteractive',\n",
              "                                                     [key], {});\n",
              "          if (!dataTable) return;\n",
              "\n",
              "          const docLinkHtml = 'Like what you see? Visit the ' +\n",
              "            '<a target=\"_blank\" href=https://colab.research.google.com/notebooks/data_table.ipynb>data table notebook</a>'\n",
              "            + ' to learn more about interactive tables.';\n",
              "          element.innerHTML = '';\n",
              "          dataTable['output_type'] = 'display_data';\n",
              "          await google.colab.output.renderOutput(dataTable, element);\n",
              "          const docLink = document.createElement('div');\n",
              "          docLink.innerHTML = docLinkHtml;\n",
              "          element.appendChild(docLink);\n",
              "        }\n",
              "      </script>\n",
              "    </div>\n",
              "  </div>\n",
              "  "
            ]
          },
          "metadata": {},
          "execution_count": 7
        }
      ]
    },
    {
      "cell_type": "code",
      "source": [
        "store_sample.info() "
      ],
      "metadata": {
        "colab": {
          "base_uri": "https://localhost:8080/"
        },
        "id": "tBiIHeo0na0m",
        "outputId": "eff32673-75f1-4757-e742-af5c6b99d90d"
      },
      "id": "tBiIHeo0na0m",
      "execution_count": null,
      "outputs": [
        {
          "output_type": "stream",
          "name": "stdout",
          "text": [
            "<class 'pandas.core.frame.DataFrame'>\n",
            "DatetimeIndex: 942 entries, 2013-01-01 to 2015-07-31\n",
            "Data columns (total 7 columns):\n",
            " #   Column         Non-Null Count  Dtype \n",
            "---  ------         --------------  ----- \n",
            " 0   DayOfWeek      942 non-null    int64 \n",
            " 1   Sales          942 non-null    int64 \n",
            " 2   Customers      942 non-null    int64 \n",
            " 3   Open           942 non-null    int64 \n",
            " 4   Promo          942 non-null    int64 \n",
            " 5   StateHoliday   942 non-null    object\n",
            " 6   SchoolHoliday  942 non-null    int64 \n",
            "dtypes: int64(6), object(1)\n",
            "memory usage: 58.9+ KB\n"
          ]
        }
      ]
    },
    {
      "cell_type": "markdown",
      "source": [
        "* Check that the date is continuous "
      ],
      "metadata": {
        "id": "ok5Z8M-jsDs0"
      },
      "id": "ok5Z8M-jsDs0"
    },
    {
      "cell_type": "code",
      "source": [
        "\n",
        "store_sample.asfreq('D').isnull().sum() "
      ],
      "metadata": {
        "colab": {
          "base_uri": "https://localhost:8080/"
        },
        "id": "txln_g72qqZk",
        "outputId": "e2db5b23-d6e8-4a6f-a46b-2005497c2a3e"
      },
      "id": "txln_g72qqZk",
      "execution_count": null,
      "outputs": [
        {
          "output_type": "execute_result",
          "data": {
            "text/plain": [
              "DayOfWeek        0\n",
              "Sales            0\n",
              "Customers        0\n",
              "Open             0\n",
              "Promo            0\n",
              "StateHoliday     0\n",
              "SchoolHoliday    0\n",
              "dtype: int64"
            ]
          },
          "metadata": {},
          "execution_count": 9
        }
      ]
    },
    {
      "cell_type": "markdown",
      "source": [
        "* So no any missing values"
      ],
      "metadata": {
        "id": "lFHnw3IPsgDV"
      },
      "id": "lFHnw3IPsgDV"
    },
    {
      "cell_type": "code",
      "source": [
        ""
      ],
      "metadata": {
        "id": "rapMNePReu2T"
      },
      "id": "rapMNePReu2T",
      "execution_count": null,
      "outputs": []
    },
    {
      "cell_type": "markdown",
      "source": [
        "## Prepare data"
      ],
      "metadata": {
        "id": "UEI7RHQ2v3oU"
      },
      "id": "UEI7RHQ2v3oU"
    },
    {
      "cell_type": "code",
      "source": [
        "def prepare_data(data, target, start_index, end_index, history_size, target_size):\n",
        "\n",
        "  start_index = start_index + history_size \n",
        "  end_index = end_index - target_size\n",
        "\n",
        "  history = []\n",
        "  new_target = []\n",
        "\n",
        "  for i in range(start_index, end_index): \n",
        "    hist_i = data[i-history_size:i]\n",
        "    targ_i = target[i:i+target_size]\n",
        "\n",
        "    history.append(hist_i)\n",
        "    new_target.append(targ_i)\n",
        "\n",
        "  return np.array(history, dtype=np.float64), np.array(new_target, dtype=np.float64)\n"
      ],
      "metadata": {
        "id": "bIeW0S0c2JJ6"
      },
      "id": "bIeW0S0c2JJ6",
      "execution_count": null,
      "outputs": []
    },
    {
      "cell_type": "markdown",
      "id": "effcca81",
      "metadata": {
        "id": "effcca81"
      },
      "source": [
        "## Split data To train and test "
      ]
    },
    {
      "cell_type": "code",
      "execution_count": null,
      "id": "4151eec6",
      "metadata": {
        "id": "4151eec6"
      },
      "outputs": [],
      "source": [
        "train_until = datetime(2015,4,30)"
      ]
    },
    {
      "cell_type": "code",
      "execution_count": null,
      "id": "f7e4e370",
      "metadata": {
        "id": "f7e4e370"
      },
      "outputs": [],
      "source": [
        "def train_test_split(x, y, train_until):\n",
        "\n",
        "  x_train = x.loc[:train_until,:]\n",
        "  x_test = x.loc[train_until+timedelta(days=1):,:]\n",
        "\n",
        "  y_train = y[:train_until]         \n",
        "  y_test = y[train_until+timedelta(days=1):]\n",
        "\n",
        "  return x_train, x_test, y_train, y_test"
      ]
    },
    {
      "cell_type": "markdown",
      "source": [
        "## Pre-processing Data"
      ],
      "metadata": {
        "id": "MfyMiEbVq8i3"
      },
      "id": "MfyMiEbVq8i3"
    },
    {
      "cell_type": "code",
      "source": [
        "# def do_lags(df, num_lags):\n",
        "#   return pd.concat(\n",
        "#       {\n",
        "#           f'lag_{i}': df.shift(i, fill_value=0)\n",
        "#           for i in range(1,num_lags+1)\n",
        "#       },\n",
        "#       axis=1\n",
        "#   )\n",
        "\n",
        "\n",
        "def pre_process_data_rnn(store_data):\n",
        "\n",
        "  store_data['DayOfWeek'] = store_data.index.dayofweek\n",
        "  store_data['Week'] = store_data.index.week \n",
        "  store_data['month'] = store_data.index.month\n",
        "  store_data['year'] = store_data.index.year\n",
        "  store_data['dayofyear'] = store_data.index.dayofyear\n",
        "\n",
        "\n",
        "  store_pre_processed = pd.DataFrame(index=store_data.index, )\n",
        "\n",
        "  # store_pre_processed = pd.get_dummies(store_data['DayOfWeek'], prefix='DayOfWeek')\n",
        "\n",
        "  stat_dums = pd.get_dummies(store_data['StateHoliday'], prefix='StateHoliday').drop('StateHoliday_0', axis='columns')\n",
        "  store_pre_processed = store_pre_processed.join(stat_dums)\n",
        "\n",
        "  \n",
        "  week_before_state_holiday = pd.DataFrame(index=store_data.index)\n",
        "\n",
        "  for col in stat_dums.columns: \n",
        "    state_holiday_ = pd.DataFrame(index=store_data.index,)\n",
        "    for i in range(-7,0):\n",
        "      state_holiday_shifted = stat_dums[col].shift(i, fill_value=0)\n",
        "      state_holiday_shifted = state_holiday_shifted.to_frame()\n",
        "      state_holiday_shifted.rename(columns={col:f'{col}_shifted_{i}'}, inplace=True)\n",
        "      state_holiday_ = state_holiday_.join(state_holiday_shifted)\n",
        "\n",
        "    week_before_state_holiday_ = state_holiday_.sum(axis=1)\n",
        "\n",
        "    week_before_state_holiday_ = week_before_state_holiday_.to_frame(name=f'week_before_{col}')\n",
        "    week_before_state_holiday = week_before_state_holiday.join(week_before_state_holiday_,)  \n",
        "\n",
        "  store_pre_processed = store_pre_processed.join(week_before_state_holiday)\n",
        "\n",
        "  store_pre_processed = store_pre_processed.join(store_data['SchoolHoliday'])\n",
        "\n",
        "\n",
        "  store_data['DayOfWeek'] = (store_data['DayOfWeek']+1) % 7 \n",
        "  data_to_scale = store_data[['DayOfWeek', 'Week',\t'month', 'year', 'dayofyear']]\n",
        "  \n",
        "  min_max_scaler = MinMaxScaler()\n",
        "  scaled_data = min_max_scaler.fit_transform(data_to_scale)\n",
        "\n",
        "  scaled_data = pd.DataFrame(scaled_data, index=data_to_scale.index, columns=data_to_scale.columns )\n",
        "  store_pre_processed = store_pre_processed.join(scaled_data)  \n",
        "\n",
        "  store_sales_rolling_std = store_data['Sales'].rolling(window=7, center=False, min_periods=1).std().fillna(0) # set rolling to the right \n",
        "  store_sales_rolling_std = store_sales_rolling_std.to_frame()\n",
        "  store_sales_rolling_std.rename(columns={'Sales':'Sales_std'}, inplace=True)\n",
        "  \n",
        "  store_sales_rolling_mean = store_data['Sales'].rolling(window=7, center=False, min_periods=1).mean().fillna(0)\n",
        "  store_sales_rolling_mean = store_sales_rolling_mean.to_frame()\n",
        "  store_sales_rolling_mean.rename(columns={'Sales':'Sales_mean'}, inplace=True)\n",
        "\n",
        "  store_sales_rolling_std = store_sales_rolling_std.shift(1).fillna(0)\n",
        "  store_sales_rolling_mean = store_sales_rolling_mean.shift(1).fillna(0)\n",
        "\n",
        "  store_pre_processed = store_pre_processed.join(store_sales_rolling_std)\n",
        "  store_pre_processed = store_pre_processed.join(store_sales_rolling_mean)\n",
        "\n",
        "  store_pre_processed = store_pre_processed.join(store_data[['Promo','Open']])\n",
        "\n",
        "  y = store_data[['Sales']]\n",
        "\n",
        "  stander = StandardScaler()\n",
        "\n",
        "  y = stander.fit_transform(y)\n",
        "  y = pd.DataFrame(data=y, index=store_data.index)\n",
        "  store_pre_processed = store_pre_processed.join(y)\n",
        "\n",
        "  return store_pre_processed, y, stander\n",
        "\n",
        "# x, y = pre_process_store(df_train, store_num)\n",
        "# x.head()\n"
      ],
      "metadata": {
        "id": "1VnF1FV-AwDu"
      },
      "id": "1VnF1FV-AwDu",
      "execution_count": null,
      "outputs": []
    },
    {
      "cell_type": "code",
      "source": [
        ""
      ],
      "metadata": {
        "id": "A-Xc7lM4TjlU"
      },
      "id": "A-Xc7lM4TjlU",
      "execution_count": null,
      "outputs": []
    },
    {
      "cell_type": "markdown",
      "source": [
        "## Functions "
      ],
      "metadata": {
        "id": "cqNvwTUSTgCa"
      },
      "id": "cqNvwTUSTgCa"
    },
    {
      "cell_type": "code",
      "source": [
        "\n",
        "\n",
        "def plot_info_model(train_set, test_set, y_pred, forecast, resid, store_num):\n",
        "\n",
        "  fig, ax = plt.subplots(3,1, figsize=(18,15))\n",
        "  # ax[0].figure(figsize=(18,6))\n",
        "  ax[0].plot(train_set, )\n",
        "  ax[0].plot(y_pred, )\n",
        "  ax[0].plot(test_set)\n",
        "  ax[0].plot(forecast)\n",
        "  ax[0].legend(('Train','y_pred', 'Test', 'Forecast'))\n",
        "  ax[0].set_title(f'Sales of store # {store_num} Train/Test/Forecast')\n",
        "\n",
        "  # plt.figure(figsize=(18,6))\n",
        "  ax[1].plot(test_set)\n",
        "  ax[1].plot(forecast)\n",
        "  ax[1].legend(('Test', 'Forecast'))\n",
        "  ax[1].set_title(f'Sales of store # {store_num} Test/Forecast')\n",
        "\n",
        "  # plt.figure(figsize=(18,4))\n",
        "  ax[2].plot(resid)\n",
        "  ax[2].axhline(0, linestyle='--', color='grey')\n",
        "  ax[2].set_title(f'Error of  model for store # {store_num} ')\n",
        "  \n",
        "  plt.show()\n",
        "\n",
        "  m=smt.graphics.plot_acf(resid, title='Autocorrelation for residuals')\n"
      ],
      "metadata": {
        "id": "9MGpQlq3E0NE"
      },
      "id": "9MGpQlq3E0NE",
      "execution_count": null,
      "outputs": []
    },
    {
      "cell_type": "code",
      "source": [
        "def evaluate(train_resid, test_resid, ):\n",
        "\n",
        "  print(f'Root mean squared error /on train = {((np.mean(train_resid**2))**0.5)}')\n",
        "  print(f'Mean absolute error / on train = {(np.mean(abs(train_resid)))}\\n')\n",
        "\n",
        "  print(f'Root mean squared error / on test  = {(np.mean(test_resid**2))**0.5}')\n",
        "  print(f'Mean absolute error / on test = {np.mean(abs(test_resid))}\\n')\n",
        "\n",
        "  print(f'Mean of train residual = {np.mean(train_resid)}')\n",
        "  print(f'Mean of test residual = {np.mean(test_resid)}')"
      ],
      "metadata": {
        "id": "lFqzqDI3-0fn"
      },
      "id": "lFqzqDI3-0fn",
      "execution_count": null,
      "outputs": []
    },
    {
      "cell_type": "code",
      "source": [
        "def plot_train_history(history, title):\n",
        "    loss = history.history['loss']\n",
        "    val_loss = history.history['val_loss']\n",
        "\n",
        "    epochs = range(len(loss))\n",
        "\n",
        "    plt.figure()\n",
        "\n",
        "    plt.plot(epochs, loss, 'b', label='Training loss')\n",
        "    plt.plot(epochs, val_loss, 'r', label='Validation loss')\n",
        "    plt.title(title)\n",
        "    plt.legend()\n",
        "\n",
        "    plt.show()"
      ],
      "metadata": {
        "id": "-kCt1Io1zlYu"
      },
      "id": "-kCt1Io1zlYu",
      "execution_count": null,
      "outputs": []
    },
    {
      "cell_type": "code",
      "source": [
        "np.mean(store_sample['Sales'])"
      ],
      "metadata": {
        "colab": {
          "base_uri": "https://localhost:8080/"
        },
        "id": "676kClsz7F7J",
        "outputId": "8ce57e0a-362f-490d-9da0-36423870c818"
      },
      "id": "676kClsz7F7J",
      "execution_count": null,
      "outputs": [
        {
          "output_type": "execute_result",
          "data": {
            "text/plain": [
              "3945.704883227176"
            ]
          },
          "metadata": {},
          "execution_count": 17
        }
      ]
    },
    {
      "cell_type": "markdown",
      "source": [
        "## Modling "
      ],
      "metadata": {
        "id": "R1UQr8yWjPMz"
      },
      "id": "R1UQr8yWjPMz"
    },
    {
      "cell_type": "code",
      "source": [
        "X, y, stander = pre_process_data_rnn(store_sample)"
      ],
      "metadata": {
        "id": "TmdXNxdgtTZd",
        "colab": {
          "base_uri": "https://localhost:8080/"
        },
        "outputId": "ecf7581b-1232-4e88-ee2a-e23ee96e310e"
      },
      "id": "TmdXNxdgtTZd",
      "execution_count": null,
      "outputs": [
        {
          "output_type": "stream",
          "name": "stderr",
          "text": [
            "/usr/local/lib/python3.7/dist-packages/ipykernel_launcher.py:13: SettingWithCopyWarning: \n",
            "A value is trying to be set on a copy of a slice from a DataFrame.\n",
            "Try using .loc[row_indexer,col_indexer] = value instead\n",
            "\n",
            "See the caveats in the documentation: https://pandas.pydata.org/pandas-docs/stable/user_guide/indexing.html#returning-a-view-versus-a-copy\n",
            "  del sys.path[0]\n",
            "/usr/local/lib/python3.7/dist-packages/ipykernel_launcher.py:14: FutureWarning: weekofyear and week have been deprecated, please use DatetimeIndex.isocalendar().week instead, which returns a Series.  To exactly reproduce the behavior of week and weekofyear and return an Index, you may call pd.Int64Index(idx.isocalendar().week)\n",
            "  \n",
            "/usr/local/lib/python3.7/dist-packages/ipykernel_launcher.py:14: SettingWithCopyWarning: \n",
            "A value is trying to be set on a copy of a slice from a DataFrame.\n",
            "Try using .loc[row_indexer,col_indexer] = value instead\n",
            "\n",
            "See the caveats in the documentation: https://pandas.pydata.org/pandas-docs/stable/user_guide/indexing.html#returning-a-view-versus-a-copy\n",
            "  \n",
            "/usr/local/lib/python3.7/dist-packages/ipykernel_launcher.py:15: SettingWithCopyWarning: \n",
            "A value is trying to be set on a copy of a slice from a DataFrame.\n",
            "Try using .loc[row_indexer,col_indexer] = value instead\n",
            "\n",
            "See the caveats in the documentation: https://pandas.pydata.org/pandas-docs/stable/user_guide/indexing.html#returning-a-view-versus-a-copy\n",
            "  from ipykernel import kernelapp as app\n",
            "/usr/local/lib/python3.7/dist-packages/ipykernel_launcher.py:16: SettingWithCopyWarning: \n",
            "A value is trying to be set on a copy of a slice from a DataFrame.\n",
            "Try using .loc[row_indexer,col_indexer] = value instead\n",
            "\n",
            "See the caveats in the documentation: https://pandas.pydata.org/pandas-docs/stable/user_guide/indexing.html#returning-a-view-versus-a-copy\n",
            "  app.launch_new_instance()\n",
            "/usr/local/lib/python3.7/dist-packages/ipykernel_launcher.py:17: SettingWithCopyWarning: \n",
            "A value is trying to be set on a copy of a slice from a DataFrame.\n",
            "Try using .loc[row_indexer,col_indexer] = value instead\n",
            "\n",
            "See the caveats in the documentation: https://pandas.pydata.org/pandas-docs/stable/user_guide/indexing.html#returning-a-view-versus-a-copy\n",
            "/usr/local/lib/python3.7/dist-packages/ipykernel_launcher.py:48: SettingWithCopyWarning: \n",
            "A value is trying to be set on a copy of a slice from a DataFrame.\n",
            "Try using .loc[row_indexer,col_indexer] = value instead\n",
            "\n",
            "See the caveats in the documentation: https://pandas.pydata.org/pandas-docs/stable/user_guide/indexing.html#returning-a-view-versus-a-copy\n"
          ]
        }
      ]
    },
    {
      "cell_type": "code",
      "source": [
        "y.head()"
      ],
      "metadata": {
        "colab": {
          "base_uri": "https://localhost:8080/",
          "height": 238
        },
        "id": "zNFNXfqAeo3r",
        "outputId": "eab75e41-1ebd-4079-9936-1b160a4aba3b"
      },
      "id": "zNFNXfqAeo3r",
      "execution_count": null,
      "outputs": [
        {
          "output_type": "execute_result",
          "data": {
            "text/plain": [
              "                   0\n",
              "Date                \n",
              "2013-01-01 -1.958800\n",
              "2013-01-02  0.786505\n",
              "2013-01-03  0.189290\n",
              "2013-01-04  0.268223\n",
              "2013-01-05  0.521903"
            ],
            "text/html": [
              "\n",
              "  <div id=\"df-96c46e5e-08f0-47e3-870f-35152bc53a48\">\n",
              "    <div class=\"colab-df-container\">\n",
              "      <div>\n",
              "<style scoped>\n",
              "    .dataframe tbody tr th:only-of-type {\n",
              "        vertical-align: middle;\n",
              "    }\n",
              "\n",
              "    .dataframe tbody tr th {\n",
              "        vertical-align: top;\n",
              "    }\n",
              "\n",
              "    .dataframe thead th {\n",
              "        text-align: right;\n",
              "    }\n",
              "</style>\n",
              "<table border=\"1\" class=\"dataframe\">\n",
              "  <thead>\n",
              "    <tr style=\"text-align: right;\">\n",
              "      <th></th>\n",
              "      <th>0</th>\n",
              "    </tr>\n",
              "    <tr>\n",
              "      <th>Date</th>\n",
              "      <th></th>\n",
              "    </tr>\n",
              "  </thead>\n",
              "  <tbody>\n",
              "    <tr>\n",
              "      <th>2013-01-01</th>\n",
              "      <td>-1.958800</td>\n",
              "    </tr>\n",
              "    <tr>\n",
              "      <th>2013-01-02</th>\n",
              "      <td>0.786505</td>\n",
              "    </tr>\n",
              "    <tr>\n",
              "      <th>2013-01-03</th>\n",
              "      <td>0.189290</td>\n",
              "    </tr>\n",
              "    <tr>\n",
              "      <th>2013-01-04</th>\n",
              "      <td>0.268223</td>\n",
              "    </tr>\n",
              "    <tr>\n",
              "      <th>2013-01-05</th>\n",
              "      <td>0.521903</td>\n",
              "    </tr>\n",
              "  </tbody>\n",
              "</table>\n",
              "</div>\n",
              "      <button class=\"colab-df-convert\" onclick=\"convertToInteractive('df-96c46e5e-08f0-47e3-870f-35152bc53a48')\"\n",
              "              title=\"Convert this dataframe to an interactive table.\"\n",
              "              style=\"display:none;\">\n",
              "        \n",
              "  <svg xmlns=\"http://www.w3.org/2000/svg\" height=\"24px\"viewBox=\"0 0 24 24\"\n",
              "       width=\"24px\">\n",
              "    <path d=\"M0 0h24v24H0V0z\" fill=\"none\"/>\n",
              "    <path d=\"M18.56 5.44l.94 2.06.94-2.06 2.06-.94-2.06-.94-.94-2.06-.94 2.06-2.06.94zm-11 1L8.5 8.5l.94-2.06 2.06-.94-2.06-.94L8.5 2.5l-.94 2.06-2.06.94zm10 10l.94 2.06.94-2.06 2.06-.94-2.06-.94-.94-2.06-.94 2.06-2.06.94z\"/><path d=\"M17.41 7.96l-1.37-1.37c-.4-.4-.92-.59-1.43-.59-.52 0-1.04.2-1.43.59L10.3 9.45l-7.72 7.72c-.78.78-.78 2.05 0 2.83L4 21.41c.39.39.9.59 1.41.59.51 0 1.02-.2 1.41-.59l7.78-7.78 2.81-2.81c.8-.78.8-2.07 0-2.86zM5.41 20L4 18.59l7.72-7.72 1.47 1.35L5.41 20z\"/>\n",
              "  </svg>\n",
              "      </button>\n",
              "      \n",
              "  <style>\n",
              "    .colab-df-container {\n",
              "      display:flex;\n",
              "      flex-wrap:wrap;\n",
              "      gap: 12px;\n",
              "    }\n",
              "\n",
              "    .colab-df-convert {\n",
              "      background-color: #E8F0FE;\n",
              "      border: none;\n",
              "      border-radius: 50%;\n",
              "      cursor: pointer;\n",
              "      display: none;\n",
              "      fill: #1967D2;\n",
              "      height: 32px;\n",
              "      padding: 0 0 0 0;\n",
              "      width: 32px;\n",
              "    }\n",
              "\n",
              "    .colab-df-convert:hover {\n",
              "      background-color: #E2EBFA;\n",
              "      box-shadow: 0px 1px 2px rgba(60, 64, 67, 0.3), 0px 1px 3px 1px rgba(60, 64, 67, 0.15);\n",
              "      fill: #174EA6;\n",
              "    }\n",
              "\n",
              "    [theme=dark] .colab-df-convert {\n",
              "      background-color: #3B4455;\n",
              "      fill: #D2E3FC;\n",
              "    }\n",
              "\n",
              "    [theme=dark] .colab-df-convert:hover {\n",
              "      background-color: #434B5C;\n",
              "      box-shadow: 0px 1px 3px 1px rgba(0, 0, 0, 0.15);\n",
              "      filter: drop-shadow(0px 1px 2px rgba(0, 0, 0, 0.3));\n",
              "      fill: #FFFFFF;\n",
              "    }\n",
              "  </style>\n",
              "\n",
              "      <script>\n",
              "        const buttonEl =\n",
              "          document.querySelector('#df-96c46e5e-08f0-47e3-870f-35152bc53a48 button.colab-df-convert');\n",
              "        buttonEl.style.display =\n",
              "          google.colab.kernel.accessAllowed ? 'block' : 'none';\n",
              "\n",
              "        async function convertToInteractive(key) {\n",
              "          const element = document.querySelector('#df-96c46e5e-08f0-47e3-870f-35152bc53a48');\n",
              "          const dataTable =\n",
              "            await google.colab.kernel.invokeFunction('convertToInteractive',\n",
              "                                                     [key], {});\n",
              "          if (!dataTable) return;\n",
              "\n",
              "          const docLinkHtml = 'Like what you see? Visit the ' +\n",
              "            '<a target=\"_blank\" href=https://colab.research.google.com/notebooks/data_table.ipynb>data table notebook</a>'\n",
              "            + ' to learn more about interactive tables.';\n",
              "          element.innerHTML = '';\n",
              "          dataTable['output_type'] = 'display_data';\n",
              "          await google.colab.output.renderOutput(dataTable, element);\n",
              "          const docLink = document.createElement('div');\n",
              "          docLink.innerHTML = docLinkHtml;\n",
              "          element.appendChild(docLink);\n",
              "        }\n",
              "      </script>\n",
              "    </div>\n",
              "  </div>\n",
              "  "
            ]
          },
          "metadata": {},
          "execution_count": 19
        }
      ]
    },
    {
      "cell_type": "code",
      "source": [
        "y.head()"
      ],
      "metadata": {
        "colab": {
          "base_uri": "https://localhost:8080/",
          "height": 238
        },
        "id": "M428RE9bfEyo",
        "outputId": "4ce13404-4f79-4e21-8410-ced2d292fede"
      },
      "id": "M428RE9bfEyo",
      "execution_count": null,
      "outputs": [
        {
          "output_type": "execute_result",
          "data": {
            "text/plain": [
              "                   0\n",
              "Date                \n",
              "2013-01-01 -1.958800\n",
              "2013-01-02  0.786505\n",
              "2013-01-03  0.189290\n",
              "2013-01-04  0.268223\n",
              "2013-01-05  0.521903"
            ],
            "text/html": [
              "\n",
              "  <div id=\"df-e69899e9-1039-4cda-a4ec-f6f78f09a3e3\">\n",
              "    <div class=\"colab-df-container\">\n",
              "      <div>\n",
              "<style scoped>\n",
              "    .dataframe tbody tr th:only-of-type {\n",
              "        vertical-align: middle;\n",
              "    }\n",
              "\n",
              "    .dataframe tbody tr th {\n",
              "        vertical-align: top;\n",
              "    }\n",
              "\n",
              "    .dataframe thead th {\n",
              "        text-align: right;\n",
              "    }\n",
              "</style>\n",
              "<table border=\"1\" class=\"dataframe\">\n",
              "  <thead>\n",
              "    <tr style=\"text-align: right;\">\n",
              "      <th></th>\n",
              "      <th>0</th>\n",
              "    </tr>\n",
              "    <tr>\n",
              "      <th>Date</th>\n",
              "      <th></th>\n",
              "    </tr>\n",
              "  </thead>\n",
              "  <tbody>\n",
              "    <tr>\n",
              "      <th>2013-01-01</th>\n",
              "      <td>-1.958800</td>\n",
              "    </tr>\n",
              "    <tr>\n",
              "      <th>2013-01-02</th>\n",
              "      <td>0.786505</td>\n",
              "    </tr>\n",
              "    <tr>\n",
              "      <th>2013-01-03</th>\n",
              "      <td>0.189290</td>\n",
              "    </tr>\n",
              "    <tr>\n",
              "      <th>2013-01-04</th>\n",
              "      <td>0.268223</td>\n",
              "    </tr>\n",
              "    <tr>\n",
              "      <th>2013-01-05</th>\n",
              "      <td>0.521903</td>\n",
              "    </tr>\n",
              "  </tbody>\n",
              "</table>\n",
              "</div>\n",
              "      <button class=\"colab-df-convert\" onclick=\"convertToInteractive('df-e69899e9-1039-4cda-a4ec-f6f78f09a3e3')\"\n",
              "              title=\"Convert this dataframe to an interactive table.\"\n",
              "              style=\"display:none;\">\n",
              "        \n",
              "  <svg xmlns=\"http://www.w3.org/2000/svg\" height=\"24px\"viewBox=\"0 0 24 24\"\n",
              "       width=\"24px\">\n",
              "    <path d=\"M0 0h24v24H0V0z\" fill=\"none\"/>\n",
              "    <path d=\"M18.56 5.44l.94 2.06.94-2.06 2.06-.94-2.06-.94-.94-2.06-.94 2.06-2.06.94zm-11 1L8.5 8.5l.94-2.06 2.06-.94-2.06-.94L8.5 2.5l-.94 2.06-2.06.94zm10 10l.94 2.06.94-2.06 2.06-.94-2.06-.94-.94-2.06-.94 2.06-2.06.94z\"/><path d=\"M17.41 7.96l-1.37-1.37c-.4-.4-.92-.59-1.43-.59-.52 0-1.04.2-1.43.59L10.3 9.45l-7.72 7.72c-.78.78-.78 2.05 0 2.83L4 21.41c.39.39.9.59 1.41.59.51 0 1.02-.2 1.41-.59l7.78-7.78 2.81-2.81c.8-.78.8-2.07 0-2.86zM5.41 20L4 18.59l7.72-7.72 1.47 1.35L5.41 20z\"/>\n",
              "  </svg>\n",
              "      </button>\n",
              "      \n",
              "  <style>\n",
              "    .colab-df-container {\n",
              "      display:flex;\n",
              "      flex-wrap:wrap;\n",
              "      gap: 12px;\n",
              "    }\n",
              "\n",
              "    .colab-df-convert {\n",
              "      background-color: #E8F0FE;\n",
              "      border: none;\n",
              "      border-radius: 50%;\n",
              "      cursor: pointer;\n",
              "      display: none;\n",
              "      fill: #1967D2;\n",
              "      height: 32px;\n",
              "      padding: 0 0 0 0;\n",
              "      width: 32px;\n",
              "    }\n",
              "\n",
              "    .colab-df-convert:hover {\n",
              "      background-color: #E2EBFA;\n",
              "      box-shadow: 0px 1px 2px rgba(60, 64, 67, 0.3), 0px 1px 3px 1px rgba(60, 64, 67, 0.15);\n",
              "      fill: #174EA6;\n",
              "    }\n",
              "\n",
              "    [theme=dark] .colab-df-convert {\n",
              "      background-color: #3B4455;\n",
              "      fill: #D2E3FC;\n",
              "    }\n",
              "\n",
              "    [theme=dark] .colab-df-convert:hover {\n",
              "      background-color: #434B5C;\n",
              "      box-shadow: 0px 1px 3px 1px rgba(0, 0, 0, 0.15);\n",
              "      filter: drop-shadow(0px 1px 2px rgba(0, 0, 0, 0.3));\n",
              "      fill: #FFFFFF;\n",
              "    }\n",
              "  </style>\n",
              "\n",
              "      <script>\n",
              "        const buttonEl =\n",
              "          document.querySelector('#df-e69899e9-1039-4cda-a4ec-f6f78f09a3e3 button.colab-df-convert');\n",
              "        buttonEl.style.display =\n",
              "          google.colab.kernel.accessAllowed ? 'block' : 'none';\n",
              "\n",
              "        async function convertToInteractive(key) {\n",
              "          const element = document.querySelector('#df-e69899e9-1039-4cda-a4ec-f6f78f09a3e3');\n",
              "          const dataTable =\n",
              "            await google.colab.kernel.invokeFunction('convertToInteractive',\n",
              "                                                     [key], {});\n",
              "          if (!dataTable) return;\n",
              "\n",
              "          const docLinkHtml = 'Like what you see? Visit the ' +\n",
              "            '<a target=\"_blank\" href=https://colab.research.google.com/notebooks/data_table.ipynb>data table notebook</a>'\n",
              "            + ' to learn more about interactive tables.';\n",
              "          element.innerHTML = '';\n",
              "          dataTable['output_type'] = 'display_data';\n",
              "          await google.colab.output.renderOutput(dataTable, element);\n",
              "          const docLink = document.createElement('div');\n",
              "          docLink.innerHTML = docLinkHtml;\n",
              "          element.appendChild(docLink);\n",
              "        }\n",
              "      </script>\n",
              "    </div>\n",
              "  </div>\n",
              "  "
            ]
          },
          "metadata": {},
          "execution_count": 20
        }
      ]
    },
    {
      "cell_type": "markdown",
      "source": [
        "### Train the model only by sales"
      ],
      "metadata": {
        "id": "7smVOtlJo5nQ"
      },
      "id": "7smVOtlJo5nQ"
    },
    {
      "cell_type": "code",
      "source": [
        "data = store_sample['Sales'].reset_index()\n",
        "data = data.drop('Date', axis=1)\n",
        "data.head()\n",
        "start = 0\n",
        "end = (datetime(2015,4,30) - datetime(2013,1,1)).days\n",
        "hist_size =  21\n",
        "targ_size = 8\n",
        "\n",
        "history_train, target_train = prepare_data(y, y, start, end, hist_size, targ_size)\n",
        "\n",
        "start = (datetime(2015,4,30) - datetime(2013,1,1)).days + 1\n",
        "end = start +  (datetime(2015,6,30) - datetime(2015,5,1)).days\n",
        "\n",
        "history_val, target_val = prepare_data(y, y, start, end, hist_size, targ_size)"
      ],
      "metadata": {
        "id": "U-cpZ75sjOOI"
      },
      "id": "U-cpZ75sjOOI",
      "execution_count": null,
      "outputs": []
    },
    {
      "cell_type": "code",
      "source": [
        "print(f'shape of x train data {history_train.shape}')\n",
        "print(f'shape of y train data {target_train.shape}')"
      ],
      "metadata": {
        "colab": {
          "base_uri": "https://localhost:8080/"
        },
        "id": "ZqumR9KjjfS3",
        "outputId": "e66371f9-ae1f-4f17-8c49-f4fcfa4d798e"
      },
      "id": "ZqumR9KjjfS3",
      "execution_count": null,
      "outputs": [
        {
          "output_type": "stream",
          "name": "stdout",
          "text": [
            "shape of x train data (820, 21, 1)\n",
            "shape of y train data (820, 8, 1)\n"
          ]
        }
      ]
    },
    {
      "cell_type": "code",
      "source": [
        "BATCH_SIZE = 256\n",
        "BUFFER_SIZE = 10000\n",
        "\n",
        "train_data = tf.data.Dataset.from_tensor_slices((history_train, target_train))\n",
        "train_data = train_data.cache().shuffle(BUFFER_SIZE).batch(BATCH_SIZE).repeat()\n",
        "\n",
        "val_data = tf.data.Dataset.from_tensor_slices((history_val, target_val))\n",
        "val_data = val_data.batch(BATCH_SIZE).repeat()"
      ],
      "metadata": {
        "id": "MtlKG0-rxidl"
      },
      "id": "MtlKG0-rxidl",
      "execution_count": null,
      "outputs": []
    },
    {
      "cell_type": "code",
      "source": [
        "tf.keras.utils.set_random_seed(12)\n",
        "multi_step_model = tf.keras.models.Sequential()\n",
        "multi_step_model.add(tf.keras.layers.LSTM(32,\n",
        "                                          return_sequences=True,\n",
        "                                          input_shape=(hist_size,1)))\n",
        " \n",
        "multi_step_model.add(tf.keras.layers.LSTM(16, activation='relu', return_sequences=True,))\n",
        "multi_step_model.add(tf.keras.layers.LSTM(8, activation='relu'))\n",
        "multi_step_model.add(tf.keras.layers.Dense(8))\n",
        "\n",
        "multi_step_model.compile(optimizer=tf.keras.optimizers.RMSprop(clipvalue=1.0), loss='mae')\n",
        "print(multi_step_model.summary())"
      ],
      "metadata": {
        "colab": {
          "base_uri": "https://localhost:8080/"
        },
        "id": "z-FLp913nWba",
        "outputId": "e9cde032-ee76-493d-c5aa-c52fe7a87537"
      },
      "id": "z-FLp913nWba",
      "execution_count": null,
      "outputs": [
        {
          "output_type": "stream",
          "name": "stdout",
          "text": [
            "Model: \"sequential\"\n",
            "_________________________________________________________________\n",
            " Layer (type)                Output Shape              Param #   \n",
            "=================================================================\n",
            " lstm (LSTM)                 (None, 21, 32)            4352      \n",
            "                                                                 \n",
            " lstm_1 (LSTM)               (None, 21, 16)            3136      \n",
            "                                                                 \n",
            " lstm_2 (LSTM)               (None, 8)                 800       \n",
            "                                                                 \n",
            " dense (Dense)               (None, 8)                 72        \n",
            "                                                                 \n",
            "=================================================================\n",
            "Total params: 8,360\n",
            "Trainable params: 8,360\n",
            "Non-trainable params: 0\n",
            "_________________________________________________________________\n",
            "None\n"
          ]
        }
      ]
    },
    {
      "cell_type": "code",
      "source": [
        "evaluaion_inter = 30\n",
        "epochs=30\n",
        "early_stopping = EarlyStopping(monitor='val_loss', patience = 5, restore_best_weights=True)\n",
        "multi_step_history = multi_step_model.fit(train_data,\n",
        "                                          epochs=epochs,\n",
        "                                          steps_per_epoch=evaluaion_inter,\n",
        "                                          validation_data=val_data,\n",
        "                                          validation_steps=evaluaion_inter,\n",
        "                                          callbacks=[early_stopping])"
      ],
      "metadata": {
        "colab": {
          "base_uri": "https://localhost:8080/"
        },
        "id": "oJTQbsm7nWOm",
        "outputId": "14615060-d899-40e9-dd12-04308b8fec6e"
      },
      "id": "oJTQbsm7nWOm",
      "execution_count": null,
      "outputs": [
        {
          "output_type": "stream",
          "name": "stdout",
          "text": [
            "Epoch 1/30\n",
            "30/30 [==============================] - 13s 145ms/step - loss: 0.7313 - val_loss: 0.6300\n",
            "Epoch 2/30\n",
            "30/30 [==============================] - 3s 95ms/step - loss: 0.7196 - val_loss: 0.6315\n",
            "Epoch 3/30\n",
            "30/30 [==============================] - 3s 109ms/step - loss: 0.7124 - val_loss: 0.6300\n",
            "Epoch 4/30\n",
            "30/30 [==============================] - 3s 110ms/step - loss: 0.7067 - val_loss: 0.6380\n",
            "Epoch 5/30\n",
            "30/30 [==============================] - 3s 96ms/step - loss: 0.7013 - val_loss: 0.6297\n",
            "Epoch 6/30\n",
            "30/30 [==============================] - 3s 114ms/step - loss: 0.6964 - val_loss: 0.6316\n",
            "Epoch 7/30\n",
            "30/30 [==============================] - 3s 92ms/step - loss: 0.6941 - val_loss: 0.6295\n",
            "Epoch 8/30\n",
            "30/30 [==============================] - 3s 88ms/step - loss: 0.6898 - val_loss: 0.6284\n",
            "Epoch 9/30\n",
            "30/30 [==============================] - 2s 79ms/step - loss: 0.6850 - val_loss: 0.6216\n",
            "Epoch 10/30\n",
            "30/30 [==============================] - 3s 91ms/step - loss: 0.6827 - val_loss: 0.6218\n",
            "Epoch 11/30\n",
            "30/30 [==============================] - 3s 94ms/step - loss: 0.6769 - val_loss: 0.6239\n",
            "Epoch 12/30\n",
            "30/30 [==============================] - 2s 80ms/step - loss: 0.6733 - val_loss: 0.6209\n",
            "Epoch 13/30\n",
            "30/30 [==============================] - 2s 50ms/step - loss: 0.6684 - val_loss: 0.6189\n",
            "Epoch 14/30\n",
            "30/30 [==============================] - 2s 52ms/step - loss: 0.6622 - val_loss: 0.6182\n",
            "Epoch 15/30\n",
            "30/30 [==============================] - 2s 51ms/step - loss: 0.6600 - val_loss: 0.6222\n",
            "Epoch 16/30\n",
            "30/30 [==============================] - 2s 51ms/step - loss: 0.6554 - val_loss: 0.6184\n",
            "Epoch 17/30\n",
            "30/30 [==============================] - 2s 53ms/step - loss: 0.6542 - val_loss: 0.6210\n",
            "Epoch 18/30\n",
            "30/30 [==============================] - 2s 52ms/step - loss: 0.6516 - val_loss: 0.6276\n",
            "Epoch 19/30\n",
            "30/30 [==============================] - 2s 51ms/step - loss: 0.6482 - val_loss: 0.6187\n"
          ]
        }
      ]
    },
    {
      "cell_type": "code",
      "source": [
        "plot_train_history(multi_step_history, 'Loss')"
      ],
      "metadata": {
        "colab": {
          "base_uri": "https://localhost:8080/",
          "height": 281
        },
        "id": "ocZnZkatsjlv",
        "outputId": "e2b6f803-1063-4ccc-fc14-db66f7c0a638"
      },
      "id": "ocZnZkatsjlv",
      "execution_count": null,
      "outputs": [
        {
          "output_type": "display_data",
          "data": {
            "text/plain": [
              "<Figure size 432x288 with 1 Axes>"
            ],
            "image/png": "[encoded data removed]"
          },
          "metadata": {
            "needs_background": "light"
          }
        }
      ]
    },
    {
      "cell_type": "code",
      "source": [
        "pred = multi_step_model.predict(history_train)"
      ],
      "metadata": {
        "id": "UCYEZz75yYSO"
      },
      "id": "UCYEZz75yYSO",
      "execution_count": null,
      "outputs": []
    },
    {
      "cell_type": "code",
      "source": [
        "pred = stander.inverse_transform(pred)"
      ],
      "metadata": {
        "id": "DC5XMWouy8_3"
      },
      "id": "DC5XMWouy8_3",
      "execution_count": null,
      "outputs": []
    },
    {
      "cell_type": "code",
      "source": [
        "# np.mean(abs(history_train - pred))\n",
        "pred"
      ],
      "metadata": {
        "colab": {
          "base_uri": "https://localhost:8080/"
        },
        "id": "fa_SjrmVzE0F",
        "outputId": "6fdc5452-faef-4f99-ce7b-2032995a654a"
      },
      "id": "fa_SjrmVzE0F",
      "execution_count": null,
      "outputs": [
        {
          "output_type": "execute_result",
          "data": {
            "text/plain": [
              "array([[5289.763 , 4801.571 , 4723.101 , ..., 4252.808 , 3890.751 ,\n",
              "        3801.3157],\n",
              "       [5153.128 , 4901.5317, 4397.7466, ..., 4173.042 , 3938.9912,\n",
              "        4032.8264],\n",
              "       [5066.818 , 4859.6226, 4283.211 , ..., 4084.774 , 3858.1216,\n",
              "        3977.3406],\n",
              "       ...,\n",
              "       [3908.4026, 4209.6265, 4061.7412, ..., 3779.0237, 4015.7117,\n",
              "        4195.193 ],\n",
              "       [3833.0957, 4141.879 , 4082.325 , ..., 3762.4346, 4025.4902,\n",
              "        4203.509 ],\n",
              "       [3772.8083, 4101.656 , 4120.512 , ..., 3881.8384, 4096.6543,\n",
              "        4174.369 ]], dtype=float32)"
            ]
          },
          "metadata": {},
          "execution_count": 29
        }
      ]
    },
    {
      "cell_type": "markdown",
      "source": [
        "### Add more feature to X trian in RNN "
      ],
      "metadata": {
        "id": "cKsDajnwoxbl"
      },
      "id": "cKsDajnwoxbl"
    },
    {
      "cell_type": "code",
      "source": [
        "X, y, stander = pre_process_data_rnn(store_sample)\n",
        "X.head()"
      ],
      "metadata": {
        "colab": {
          "base_uri": "https://localhost:8080/",
          "height": 1000
        },
        "id": "p59y6afNv0Zu",
        "outputId": "9cc3ebce-e359-490a-bcae-b170b5d8d536"
      },
      "id": "p59y6afNv0Zu",
      "execution_count": null,
      "outputs": [
        {
          "output_type": "stream",
          "name": "stderr",
          "text": [
            "/usr/local/lib/python3.7/dist-packages/ipykernel_launcher.py:13: SettingWithCopyWarning: \n",
            "A value is trying to be set on a copy of a slice from a DataFrame.\n",
            "Try using .loc[row_indexer,col_indexer] = value instead\n",
            "\n",
            "See the caveats in the documentation: https://pandas.pydata.org/pandas-docs/stable/user_guide/indexing.html#returning-a-view-versus-a-copy\n",
            "  del sys.path[0]\n",
            "/usr/local/lib/python3.7/dist-packages/ipykernel_launcher.py:14: FutureWarning: weekofyear and week have been deprecated, please use DatetimeIndex.isocalendar().week instead, which returns a Series.  To exactly reproduce the behavior of week and weekofyear and return an Index, you may call pd.Int64Index(idx.isocalendar().week)\n",
            "  \n",
            "/usr/local/lib/python3.7/dist-packages/ipykernel_launcher.py:14: SettingWithCopyWarning: \n",
            "A value is trying to be set on a copy of a slice from a DataFrame.\n",
            "Try using .loc[row_indexer,col_indexer] = value instead\n",
            "\n",
            "See the caveats in the documentation: https://pandas.pydata.org/pandas-docs/stable/user_guide/indexing.html#returning-a-view-versus-a-copy\n",
            "  \n",
            "/usr/local/lib/python3.7/dist-packages/ipykernel_launcher.py:15: SettingWithCopyWarning: \n",
            "A value is trying to be set on a copy of a slice from a DataFrame.\n",
            "Try using .loc[row_indexer,col_indexer] = value instead\n",
            "\n",
            "See the caveats in the documentation: https://pandas.pydata.org/pandas-docs/stable/user_guide/indexing.html#returning-a-view-versus-a-copy\n",
            "  from ipykernel import kernelapp as app\n",
            "/usr/local/lib/python3.7/dist-packages/ipykernel_launcher.py:16: SettingWithCopyWarning: \n",
            "A value is trying to be set on a copy of a slice from a DataFrame.\n",
            "Try using .loc[row_indexer,col_indexer] = value instead\n",
            "\n",
            "See the caveats in the documentation: https://pandas.pydata.org/pandas-docs/stable/user_guide/indexing.html#returning-a-view-versus-a-copy\n",
            "  app.launch_new_instance()\n",
            "/usr/local/lib/python3.7/dist-packages/ipykernel_launcher.py:17: SettingWithCopyWarning: \n",
            "A value is trying to be set on a copy of a slice from a DataFrame.\n",
            "Try using .loc[row_indexer,col_indexer] = value instead\n",
            "\n",
            "See the caveats in the documentation: https://pandas.pydata.org/pandas-docs/stable/user_guide/indexing.html#returning-a-view-versus-a-copy\n",
            "/usr/local/lib/python3.7/dist-packages/ipykernel_launcher.py:48: SettingWithCopyWarning: \n",
            "A value is trying to be set on a copy of a slice from a DataFrame.\n",
            "Try using .loc[row_indexer,col_indexer] = value instead\n",
            "\n",
            "See the caveats in the documentation: https://pandas.pydata.org/pandas-docs/stable/user_guide/indexing.html#returning-a-view-versus-a-copy\n"
          ]
        },
        {
          "output_type": "execute_result",
          "data": {
            "text/plain": [
              "            StateHoliday_a  StateHoliday_b  StateHoliday_c  \\\n",
              "Date                                                         \n",
              "2013-01-01               1               0               0   \n",
              "2013-01-02               0               0               0   \n",
              "2013-01-03               0               0               0   \n",
              "2013-01-04               0               0               0   \n",
              "2013-01-05               0               0               0   \n",
              "\n",
              "            week_before_StateHoliday_a  week_before_StateHoliday_b  \\\n",
              "Date                                                                 \n",
              "2013-01-01                           0                           0   \n",
              "2013-01-02                           0                           0   \n",
              "2013-01-03                           0                           0   \n",
              "2013-01-04                           0                           0   \n",
              "2013-01-05                           0                           0   \n",
              "\n",
              "            week_before_StateHoliday_c  SchoolHoliday  DayOfWeek  Week  month  \\\n",
              "Date                                                                            \n",
              "2013-01-01                           0              1   0.333333   0.0    0.0   \n",
              "2013-01-02                           0              1   0.500000   0.0    0.0   \n",
              "2013-01-03                           0              1   0.666667   0.0    0.0   \n",
              "2013-01-04                           0              1   0.833333   0.0    0.0   \n",
              "2013-01-05                           0              1   1.000000   0.0    0.0   \n",
              "\n",
              "            year  dayofyear    Sales_std   Sales_mean  Promo  Open         0  \n",
              "Date                                                                          \n",
              "2013-01-01   0.0   0.000000     0.000000     0.000000      0     0 -1.958800  \n",
              "2013-01-02   0.0   0.002747     0.000000     0.000000      0     1  0.786505  \n",
              "2013-01-03   0.0   0.005495  3910.300500  2765.000000      0     1  0.189290  \n",
              "2013-01-04   0.0   0.008242  2908.351137  3285.666667      0     1  0.268223  \n",
              "2013-01-05   0.0   0.010989  2449.327306  3585.750000      0     1  0.521903  "
            ],
            "text/html": [
              "\n",
              "  <div id=\"df-91845aab-7daa-4edc-8bd9-4bda3ff52c16\">\n",
              "    <div class=\"colab-df-container\">\n",
              "      <div>\n",
              "<style scoped>\n",
              "    .dataframe tbody tr th:only-of-type {\n",
              "        vertical-align: middle;\n",
              "    }\n",
              "\n",
              "    .dataframe tbody tr th {\n",
              "        vertical-align: top;\n",
              "    }\n",
              "\n",
              "    .dataframe thead th {\n",
              "        text-align: right;\n",
              "    }\n",
              "</style>\n",
              "<table border=\"1\" class=\"dataframe\">\n",
              "  <thead>\n",
              "    <tr style=\"text-align: right;\">\n",
              "      <th></th>\n",
              "      <th>StateHoliday_a</th>\n",
              "      <th>StateHoliday_b</th>\n",
              "      <th>StateHoliday_c</th>\n",
              "      <th>week_before_StateHoliday_a</th>\n",
              "      <th>week_before_StateHoliday_b</th>\n",
              "      <th>week_before_StateHoliday_c</th>\n",
              "      <th>SchoolHoliday</th>\n",
              "      <th>DayOfWeek</th>\n",
              "      <th>Week</th>\n",
              "      <th>month</th>\n",
              "      <th>year</th>\n",
              "      <th>dayofyear</th>\n",
              "      <th>Sales_std</th>\n",
              "      <th>Sales_mean</th>\n",
              "      <th>Promo</th>\n",
              "      <th>Open</th>\n",
              "      <th>0</th>\n",
              "    </tr>\n",
              "    <tr>\n",
              "      <th>Date</th>\n",
              "      <th></th>\n",
              "      <th></th>\n",
              "      <th></th>\n",
              "      <th></th>\n",
              "      <th></th>\n",
              "      <th></th>\n",
              "      <th></th>\n",
              "      <th></th>\n",
              "      <th></th>\n",
              "      <th></th>\n",
              "      <th></th>\n",
              "      <th></th>\n",
              "      <th></th>\n",
              "      <th></th>\n",
              "      <th></th>\n",
              "      <th></th>\n",
              "      <th></th>\n",
              "    </tr>\n",
              "  </thead>\n",
              "  <tbody>\n",
              "    <tr>\n",
              "      <th>2013-01-01</th>\n",
              "      <td>1</td>\n",
              "      <td>0</td>\n",
              "      <td>0</td>\n",
              "      <td>0</td>\n",
              "      <td>0</td>\n",
              "      <td>0</td>\n",
              "      <td>1</td>\n",
              "      <td>0.333333</td>\n",
              "      <td>0.0</td>\n",
              "      <td>0.0</td>\n",
              "      <td>0.0</td>\n",
              "      <td>0.000000</td>\n",
              "      <td>0.000000</td>\n",
              "      <td>0.000000</td>\n",
              "      <td>0</td>\n",
              "      <td>0</td>\n",
              "      <td>-1.958800</td>\n",
              "    </tr>\n",
              "    <tr>\n",
              "      <th>2013-01-02</th>\n",
              "      <td>0</td>\n",
              "      <td>0</td>\n",
              "      <td>0</td>\n",
              "      <td>0</td>\n",
              "      <td>0</td>\n",
              "      <td>0</td>\n",
              "      <td>1</td>\n",
              "      <td>0.500000</td>\n",
              "      <td>0.0</td>\n",
              "      <td>0.0</td>\n",
              "      <td>0.0</td>\n",
              "      <td>0.002747</td>\n",
              "      <td>0.000000</td>\n",
              "      <td>0.000000</td>\n",
              "      <td>0</td>\n",
              "      <td>1</td>\n",
              "      <td>0.786505</td>\n",
              "    </tr>\n",
              "    <tr>\n",
              "      <th>2013-01-03</th>\n",
              "      <td>0</td>\n",
              "      <td>0</td>\n",
              "      <td>0</td>\n",
              "      <td>0</td>\n",
              "      <td>0</td>\n",
              "      <td>0</td>\n",
              "      <td>1</td>\n",
              "      <td>0.666667</td>\n",
              "      <td>0.0</td>\n",
              "      <td>0.0</td>\n",
              "      <td>0.0</td>\n",
              "      <td>0.005495</td>\n",
              "      <td>3910.300500</td>\n",
              "      <td>2765.000000</td>\n",
              "      <td>0</td>\n",
              "      <td>1</td>\n",
              "      <td>0.189290</td>\n",
              "    </tr>\n",
              "    <tr>\n",
              "      <th>2013-01-04</th>\n",
              "      <td>0</td>\n",
              "      <td>0</td>\n",
              "      <td>0</td>\n",
              "      <td>0</td>\n",
              "      <td>0</td>\n",
              "      <td>0</td>\n",
              "      <td>1</td>\n",
              "      <td>0.833333</td>\n",
              "      <td>0.0</td>\n",
              "      <td>0.0</td>\n",
              "      <td>0.0</td>\n",
              "      <td>0.008242</td>\n",
              "      <td>2908.351137</td>\n",
              "      <td>3285.666667</td>\n",
              "      <td>0</td>\n",
              "      <td>1</td>\n",
              "      <td>0.268223</td>\n",
              "    </tr>\n",
              "    <tr>\n",
              "      <th>2013-01-05</th>\n",
              "      <td>0</td>\n",
              "      <td>0</td>\n",
              "      <td>0</td>\n",
              "      <td>0</td>\n",
              "      <td>0</td>\n",
              "      <td>0</td>\n",
              "      <td>1</td>\n",
              "      <td>1.000000</td>\n",
              "      <td>0.0</td>\n",
              "      <td>0.0</td>\n",
              "      <td>0.0</td>\n",
              "      <td>0.010989</td>\n",
              "      <td>2449.327306</td>\n",
              "      <td>3585.750000</td>\n",
              "      <td>0</td>\n",
              "      <td>1</td>\n",
              "      <td>0.521903</td>\n",
              "    </tr>\n",
              "  </tbody>\n",
              "</table>\n",
              "</div>\n",
              "      <button class=\"colab-df-convert\" onclick=\"convertToInteractive('df-91845aab-7daa-4edc-8bd9-4bda3ff52c16')\"\n",
              "              title=\"Convert this dataframe to an interactive table.\"\n",
              "              style=\"display:none;\">\n",
              "        \n",
              "  <svg xmlns=\"http://www.w3.org/2000/svg\" height=\"24px\"viewBox=\"0 0 24 24\"\n",
              "       width=\"24px\">\n",
              "    <path d=\"M0 0h24v24H0V0z\" fill=\"none\"/>\n",
              "    <path d=\"M18.56 5.44l.94 2.06.94-2.06 2.06-.94-2.06-.94-.94-2.06-.94 2.06-2.06.94zm-11 1L8.5 8.5l.94-2.06 2.06-.94-2.06-.94L8.5 2.5l-.94 2.06-2.06.94zm10 10l.94 2.06.94-2.06 2.06-.94-2.06-.94-.94-2.06-.94 2.06-2.06.94z\"/><path d=\"M17.41 7.96l-1.37-1.37c-.4-.4-.92-.59-1.43-.59-.52 0-1.04.2-1.43.59L10.3 9.45l-7.72 7.72c-.78.78-.78 2.05 0 2.83L4 21.41c.39.39.9.59 1.41.59.51 0 1.02-.2 1.41-.59l7.78-7.78 2.81-2.81c.8-.78.8-2.07 0-2.86zM5.41 20L4 18.59l7.72-7.72 1.47 1.35L5.41 20z\"/>\n",
              "  </svg>\n",
              "      </button>\n",
              "      \n",
              "  <style>\n",
              "    .colab-df-container {\n",
              "      display:flex;\n",
              "      flex-wrap:wrap;\n",
              "      gap: 12px;\n",
              "    }\n",
              "\n",
              "    .colab-df-convert {\n",
              "      background-color: #E8F0FE;\n",
              "      border: none;\n",
              "      border-radius: 50%;\n",
              "      cursor: pointer;\n",
              "      display: none;\n",
              "      fill: #1967D2;\n",
              "      height: 32px;\n",
              "      padding: 0 0 0 0;\n",
              "      width: 32px;\n",
              "    }\n",
              "\n",
              "    .colab-df-convert:hover {\n",
              "      background-color: #E2EBFA;\n",
              "      box-shadow: 0px 1px 2px rgba(60, 64, 67, 0.3), 0px 1px 3px 1px rgba(60, 64, 67, 0.15);\n",
              "      fill: #174EA6;\n",
              "    }\n",
              "\n",
              "    [theme=dark] .colab-df-convert {\n",
              "      background-color: #3B4455;\n",
              "      fill: #D2E3FC;\n",
              "    }\n",
              "\n",
              "    [theme=dark] .colab-df-convert:hover {\n",
              "      background-color: #434B5C;\n",
              "      box-shadow: 0px 1px 3px 1px rgba(0, 0, 0, 0.15);\n",
              "      filter: drop-shadow(0px 1px 2px rgba(0, 0, 0, 0.3));\n",
              "      fill: #FFFFFF;\n",
              "    }\n",
              "  </style>\n",
              "\n",
              "      <script>\n",
              "        const buttonEl =\n",
              "          document.querySelector('#df-91845aab-7daa-4edc-8bd9-4bda3ff52c16 button.colab-df-convert');\n",
              "        buttonEl.style.display =\n",
              "          google.colab.kernel.accessAllowed ? 'block' : 'none';\n",
              "\n",
              "        async function convertToInteractive(key) {\n",
              "          const element = document.querySelector('#df-91845aab-7daa-4edc-8bd9-4bda3ff52c16');\n",
              "          const dataTable =\n",
              "            await google.colab.kernel.invokeFunction('convertToInteractive',\n",
              "                                                     [key], {});\n",
              "          if (!dataTable) return;\n",
              "\n",
              "          const docLinkHtml = 'Like what you see? Visit the ' +\n",
              "            '<a target=\"_blank\" href=https://colab.research.google.com/notebooks/data_table.ipynb>data table notebook</a>'\n",
              "            + ' to learn more about interactive tables.';\n",
              "          element.innerHTML = '';\n",
              "          dataTable['output_type'] = 'display_data';\n",
              "          await google.colab.output.renderOutput(dataTable, element);\n",
              "          const docLink = document.createElement('div');\n",
              "          docLink.innerHTML = docLinkHtml;\n",
              "          element.appendChild(docLink);\n",
              "        }\n",
              "      </script>\n",
              "    </div>\n",
              "  </div>\n",
              "  "
            ]
          },
          "metadata": {},
          "execution_count": 30
        }
      ]
    },
    {
      "cell_type": "code",
      "source": [
        "\n",
        "start = 0\n",
        "end = (datetime(2015,4,30) - datetime(2013,1,1)).days\n",
        "hist_size =  21\n",
        "targ_size = 8\n",
        "\n",
        "history_train, target_train = prepare_data(X, y, start, end, hist_size, targ_size)\n",
        "\n",
        "start = (datetime(2015,4,30) - datetime(2013,1,1)).days + 1\n",
        "end = start +  (datetime(2015,6,30) - datetime(2015,5,1)).days\n",
        "\n",
        "history_val, target_val = prepare_data(X, y, start, end, hist_size, targ_size)"
      ],
      "metadata": {
        "id": "lUtyhN2VMXWZ"
      },
      "id": "lUtyhN2VMXWZ",
      "execution_count": null,
      "outputs": []
    },
    {
      "cell_type": "code",
      "source": [
        "\n",
        "print(f'shape of x train data {history_train.shape}')\n",
        "print(f'shape of y train data {target_train.shape}')"
      ],
      "metadata": {
        "colab": {
          "base_uri": "https://localhost:8080/"
        },
        "id": "95JmjU1rMXSN",
        "outputId": "4455c873-3c9c-4b96-9450-3bdb8e96972f"
      },
      "id": "95JmjU1rMXSN",
      "execution_count": null,
      "outputs": [
        {
          "output_type": "stream",
          "name": "stdout",
          "text": [
            "shape of x train data (820, 21, 17)\n",
            "shape of y train data (820, 8, 1)\n"
          ]
        }
      ]
    },
    {
      "cell_type": "code",
      "source": [
        "BATCH_SIZE = 256\n",
        "BUFFER_SIZE = 10000\n",
        "\n",
        "train_data = tf.data.Dataset.from_tensor_slices((history_train, target_train))\n",
        "train_data = train_data.cache().shuffle(BUFFER_SIZE).batch(BATCH_SIZE).repeat()\n",
        "\n",
        "val_data = tf.data.Dataset.from_tensor_slices((history_val, target_val))\n",
        "val_data = val_data.batch(BATCH_SIZE).repeat()"
      ],
      "metadata": {
        "id": "NyqtE1B6nV1o"
      },
      "id": "NyqtE1B6nV1o",
      "execution_count": null,
      "outputs": []
    },
    {
      "cell_type": "code",
      "source": [
        "tf.keras.utils.set_random_seed(10)\n",
        "multi_step_model = tf.keras.models.Sequential()\n",
        "multi_step_model.add(tf.keras.layers.LSTM(21,\n",
        "                                          return_sequences=True,\n",
        "                                          input_shape=history_train.shape[-2:]))\n",
        " \n",
        "multi_step_model.add(tf.keras.layers.LSTM(14, activation='relu'))\n",
        "multi_step_model.add(tf.keras.layers.Dense(8))\n",
        "\n",
        "multi_step_model.compile(optimizer=tf.keras.optimizers.RMSprop(clipvalue=1.0), loss='mae')\n",
        "print(multi_step_model.summary())"
      ],
      "metadata": {
        "colab": {
          "base_uri": "https://localhost:8080/"
        },
        "id": "efvxCNWLns-N",
        "outputId": "e4267fa0-0ceb-4014-a8f5-6142a0e70352"
      },
      "id": "efvxCNWLns-N",
      "execution_count": null,
      "outputs": [
        {
          "output_type": "stream",
          "name": "stdout",
          "text": [
            "Model: \"sequential_1\"\n",
            "_________________________________________________________________\n",
            " Layer (type)                Output Shape              Param #   \n",
            "=================================================================\n",
            " lstm_3 (LSTM)               (None, 21, 21)            3276      \n",
            "                                                                 \n",
            " lstm_4 (LSTM)               (None, 14)                2016      \n",
            "                                                                 \n",
            " dense_1 (Dense)             (None, 8)                 120       \n",
            "                                                                 \n",
            "=================================================================\n",
            "Total params: 5,412\n",
            "Trainable params: 5,412\n",
            "Non-trainable params: 0\n",
            "_________________________________________________________________\n",
            "None\n"
          ]
        }
      ]
    },
    {
      "cell_type": "code",
      "source": [
        "evaluaion_inter = 30\n",
        "epochs=30\n",
        "early_stopping = EarlyStopping(monitor='val_loss', patience = 5, restore_best_weights=True)\n",
        "multi_step_history = multi_step_model.fit(train_data,\n",
        "                                          epochs=epochs,\n",
        "                                          steps_per_epoch=evaluaion_inter,\n",
        "                                          validation_data=val_data,\n",
        "                                          validation_steps=evaluaion_inter,\n",
        "                                          callbacks=[early_stopping])"
      ],
      "metadata": {
        "colab": {
          "base_uri": "https://localhost:8080/"
        },
        "id": "qyRoZpsZnyOj",
        "outputId": "4272d6a8-d71a-4b7d-e367-bd30c73858f1"
      },
      "id": "qyRoZpsZnyOj",
      "execution_count": null,
      "outputs": [
        {
          "output_type": "stream",
          "name": "stdout",
          "text": [
            "Epoch 1/30\n",
            "30/30 [==============================] - 6s 59ms/step - loss: 0.7694 - val_loss: 0.6542\n",
            "Epoch 2/30\n",
            "30/30 [==============================] - 1s 34ms/step - loss: 0.7301 - val_loss: 0.6491\n",
            "Epoch 3/30\n",
            "30/30 [==============================] - 1s 36ms/step - loss: 0.7206 - val_loss: 0.6509\n",
            "Epoch 4/30\n",
            "30/30 [==============================] - 1s 35ms/step - loss: 0.7169 - val_loss: 0.6541\n",
            "Epoch 5/30\n",
            "30/30 [==============================] - 1s 35ms/step - loss: 0.7147 - val_loss: 0.6578\n",
            "Epoch 6/30\n",
            "30/30 [==============================] - 1s 36ms/step - loss: 0.7143 - val_loss: 0.6603\n",
            "Epoch 7/30\n",
            "30/30 [==============================] - 1s 38ms/step - loss: 0.7141 - val_loss: 0.6614\n"
          ]
        }
      ]
    },
    {
      "cell_type": "code",
      "source": [
        "plot_train_history(multi_step_history, 'Loss')"
      ],
      "metadata": {
        "colab": {
          "base_uri": "https://localhost:8080/"
        },
        "id": "7idSVYt1n0Mb",
        "outputId": "48088497-cd69-43c5-de42-4e4d05c25dab"
      },
      "id": "7idSVYt1n0Mb",
      "execution_count": null,
      "outputs": [
        {
          "output_type": "display_data",
          "data": {
            "text/plain": [
              "<Figure size 432x288 with 1 Axes>"
            ],
            "image/png": "[encoded data removed]"
          },
          "metadata": {
            "needs_background": "light"
          }
        }
      ]
    },
    {
      "cell_type": "code",
      "source": [
        ""
      ],
      "metadata": {
        "id": "o-wFWfK6n7Uc"
      },
      "id": "o-wFWfK6n7Uc",
      "execution_count": null,
      "outputs": []
    },
    {
      "cell_type": "code",
      "source": [
        "abs(y).mean()"
      ],
      "metadata": {
        "colab": {
          "base_uri": "https://localhost:8080/"
        },
        "id": "UmEv0r_QzxFN",
        "outputId": "48d2b9c2-5b1a-4d48-ddbb-d926b9df2de4"
      },
      "id": "UmEv0r_QzxFN",
      "execution_count": null,
      "outputs": [
        {
          "output_type": "execute_result",
          "data": {
            "text/plain": [
              "0    0.734038\n",
              "dtype: float64"
            ]
          },
          "metadata": {},
          "execution_count": 37
        }
      ]
    }
  ],
  "metadata": {
    "kernelspec": {
      "display_name": "Python 3 (ipykernel)",
      "language": "python",
      "name": "python3"
    },
    "language_info": {
      "codemirror_mode": {
        "name": "ipython",
        "version": 3
      },
      "file_extension": ".py",
      "mimetype": "text/x-python",
      "name": "python",
      "nbconvert_exporter": "python",
      "pygments_lexer": "ipython3",
      "version": "3.9.7"
    },
    "colab": {
      "name": "Modeling_RNN.ipynb",
      "provenance": [],
      "collapsed_sections": [
        "MfyMiEbVq8i3"
      ],
      "toc_visible": true
    }
  },
  "nbformat": 4,
  "nbformat_minor": 5
}